{
  "nbformat": 4,
  "nbformat_minor": 0,
  "metadata": {
    "colab": {
      "provenance": []
    },
    "kernelspec": {
      "name": "python3",
      "display_name": "Python 3"
    },
    "language_info": {
      "name": "python"
    }
  },
  "cells": [
    {
      "cell_type": "markdown",
      "source": [
        "1. What are data structures, and why are they important ?\n",
        "   Data structure is a way of storing data structurally , so that it can be used in future, when needed. For example Stack, Queue - these are all data structure, inspired from real events.\n",
        "   -Data structures organize data to enable efficient storage, retrieval, and manipulation, which is the foundation for writing fast and resource-optimized software. Choosing the right one directly impacts the performance and scalability of an application."
      ],
      "metadata": {
        "id": "VwG9QB59RMrw"
      }
    },
    {
      "cell_type": "markdown",
      "source": [
        "2.  Explain the difference between mutable and immutable data types with examples ?\n",
        "- Mutable data types can be changed after creation while immutable data types can not be changed after creation.  Example - List ( Mutable) , Tupple ( Immutable)"
      ],
      "metadata": {
        "id": "-WcqUwenSJAx"
      }
    },
    {
      "cell_type": "markdown",
      "source": [
        "3. What are the main differences between lists and tuples in Python ?\n",
        "   Lists are mutable while Tupple is immutable."
      ],
      "metadata": {
        "id": "uUQ4iy2YTBdY"
      }
    },
    {
      "cell_type": "markdown",
      "source": [
        "4. Describe how dictionaries store data ?\n",
        "   Dictonary stores data as key value pairs using hash table implementation. Time complexity - O(1)"
      ],
      "metadata": {
        "id": "ByPHEc6OTs3n"
      }
    },
    {
      "cell_type": "markdown",
      "source": [
        "5. Why might you use a set instead of a list in Python ?\n",
        "   I might use set , instead of list when I need to enforce uniqueness and perform fast membership test."
      ],
      "metadata": {
        "id": "8ruO0nWzUwnN"
      }
    },
    {
      "cell_type": "markdown",
      "source": [
        "6.  What is a string in Python, and how is it different from a list ?\n",
        "    String in python is a sequences of characters while list is a combination of different types of data type with mutibility"
      ],
      "metadata": {
        "id": "yhxXKmA3VJD0"
      }
    },
    {
      "cell_type": "markdown",
      "source": [
        "7. How do tuples ensure data integrity in Python ?\n",
        "   Python has some built in data types like int, float, tupple which can not be changed through out the function, even by mistakenly. For example in a tuple if I store a co-ordinate (x,y) , It wont be changed. if I try to change, it will throw an error."
      ],
      "metadata": {
        "id": "D1t9qysojgMS"
      }
    },
    {
      "cell_type": "markdown",
      "source": [
        "8. What is a hash table, and how does it relate to dictionaries in Python ?\n",
        "   A hash table is a data structure that implements an associative array by mapping keys to values using a hash function. In Python, dictionaries are the built-in implementation of a hash table, storing key-value pairs. This provides average O(1) time complexity for lookup, insertion, and deletion operations.\n",
        "\n"
      ],
      "metadata": {
        "id": "bRtl-wHukJ6y"
      }
    },
    {
      "cell_type": "markdown",
      "source": [
        "9.  Can lists contain different data types in Python ?\n",
        "    Yes, List can contain different types of data types."
      ],
      "metadata": {
        "id": "IxV8PFb_lBQN"
      }
    },
    {
      "cell_type": "markdown",
      "source": [
        "10. Explain why strings are immutable in Python ?\n",
        "    Strings are immutable in Python primarily for reasons of performance, safety, and memory efficiency. Immutability allows Python to use techniques like interning (reusing objects for common strings) for optimization and makes strings safe to use as keys in dictionaries. It also ensures data integrity, as a string passed to a function cannot be accidentally altered by it."
      ],
      "metadata": {
        "id": "2iyVxJiolR5D"
      }
    },
    {
      "cell_type": "markdown",
      "source": [
        "11. What advantages do dictionaries offer over lists for certain tasks ?\n",
        "    Dictionary provides time complexity of O(1) where as List offers time complexity of o(n), which comparetively slower."
      ],
      "metadata": {
        "id": "7wuwJlaAl2L7"
      }
    },
    {
      "cell_type": "markdown",
      "source": [
        "12. Describe a scenario where using a tuple would be preferable over a list ?\n",
        "    If I put a co-ordinate of place which is unchangable I will prefer tupple (x,y), because tupple is immutable. My data will be protected."
      ],
      "metadata": {
        "id": "LbuGcElqmrlt"
      }
    },
    {
      "cell_type": "markdown",
      "source": [
        "13. How do sets handle duplicate values in Python ?\n",
        "    sets automatically remove duplicate values upon creation or when new elements are added, as each element must be unique based on its hash.\n",
        "\n"
      ],
      "metadata": {
        "id": "QG1RRGpMnKwc"
      }
    },
    {
      "cell_type": "markdown",
      "source": [
        "14.How does the “in” keyword work differently for lists and dictionaries ?\n",
        "   For lists, in performs linear search, time complexity O(n) but in dictionaries it only checks members, time complexity O(1) which makes significantly faster."
      ],
      "metadata": {
        "id": "clkYjFglnn7N"
      }
    },
    {
      "cell_type": "markdown",
      "source": [
        "15. Can you modify the elements of a tuple? Explain why or why not ?\n",
        "    No because tupples are immutable, it will throw an error."
      ],
      "metadata": {
        "id": "HVON5FNUogBD"
      }
    },
    {
      "cell_type": "markdown",
      "source": [
        "16. What is a nested dictionary, and give an example of its use case ?\n",
        "  A nested dictionary is a dictionary that contains other dictionaries as value\n",
        "  A common use case is storing complex, hierarchical data, such as user\n",
        "  profiles with multiple addresses.\n",
        "\n"
      ],
      "metadata": {
        "id": "r6_3Bja9pUKX"
      }
    },
    {
      "cell_type": "markdown",
      "source": [
        "17.Describe the time complexity of accessing elements in a dictionary ?\n",
        "Accessing an element in a dictionary by its key has an average time complexity of O(1), meaning it is a constant-time operation regardless of the dictionary's size, due to the underlying hash table implementation"
      ],
      "metadata": {
        "id": "dK6LPdmTptHk"
      }
    },
    {
      "cell_type": "markdown",
      "source": [
        "18.In what situations are lists preferred over dictionaries?\n",
        "   Lists are preferred when the order of elements is critical, when you need to store a simple sequence of items without associated keys, or when you need to perform operations that require a sequence e.g., slicing, stacking order-dependent data."
      ],
      "metadata": {
        "id": "y_px6EsIp8Op"
      }
    },
    {
      "cell_type": "markdown",
      "source": [
        "19. Why are dictionaries considered unordered, and how does that affect data retrieval?\n",
        "  In Python versions before 3.7, dictionaries were inherently unordered. While they are now insertion-ordered (as of Python 3.7), they are still considered \"unordered\" in the abstract data type sense because they are primarily indexed by keys, not by position. This means you cannot reliably retrieve elements by a numerical index (like list[0]); you must use a key."
      ],
      "metadata": {
        "id": "O0ynI10tqZyJ"
      }
    },
    {
      "cell_type": "markdown",
      "source": [
        "20. Explain the difference between a list and a dictionary in terms of data retrieval.\n",
        "Data in a list is retrieved by its integer index (position), which can be inefficient (O(n)) for finding a value. Data in a dictionary is retrieved by its unique key, which is highly efficient (average O(1)) due to hashing.\n"
      ],
      "metadata": {
        "id": "q3N8y6JSqnn3"
      }
    },
    {
      "cell_type": "code",
      "source": [
        " #Write a code to create a string with your name and print it\n",
        " name = \"Sayantan Banerjee\"\n",
        "print(name)"
      ],
      "metadata": {
        "id": "okAgr6MTqx50",
        "colab": {
          "base_uri": "https://localhost:8080/"
        },
        "outputId": "0c3c70e9-1aac-490e-8da3-8856b8595860"
      },
      "execution_count": 2,
      "outputs": [
        {
          "output_type": "stream",
          "name": "stdout",
          "text": [
            "Sayantan Banerjee\n"
          ]
        }
      ]
    },
    {
      "cell_type": "code",
      "source": [
        "#Write a code to find the length of the string \"Hello World\"\n",
        "string = \"Hello World\"\n",
        "print(len(string))"
      ],
      "metadata": {
        "colab": {
          "base_uri": "https://localhost:8080/"
        },
        "id": "1QeioPbLLdr3",
        "outputId": "3cfad367-c481-420e-9be0-18a99de3cdec"
      },
      "execution_count": 3,
      "outputs": [
        {
          "output_type": "stream",
          "name": "stdout",
          "text": [
            "11\n"
          ]
        }
      ]
    },
    {
      "cell_type": "code",
      "source": [
        "# Write a code to slice the first 3 characters from the string \"Python\n",
        "# Programming\"\n",
        "string = \"Python Programming\"\n",
        "print(string[:3])"
      ],
      "metadata": {
        "colab": {
          "base_uri": "https://localhost:8080/"
        },
        "id": "mM6J41O-L4nq",
        "outputId": "941d7347-7c09-484c-ef87-89f806bf2c20"
      },
      "execution_count": 4,
      "outputs": [
        {
          "output_type": "stream",
          "name": "stdout",
          "text": [
            "Pyt\n"
          ]
        }
      ]
    },
    {
      "cell_type": "code",
      "source": [
        "# Write a code to convert the string \"hello\" to uppercase\n",
        "string3 = \"hello\"\n",
        "uppercase_string = string3.upper()\n",
        "print(f\"Uppercase: {uppercase_string}\")"
      ],
      "metadata": {
        "colab": {
          "base_uri": "https://localhost:8080/"
        },
        "id": "vLzrPjQ6MD0B",
        "outputId": "c56faffc-38a8-42e9-b1d3-d6626272b56f"
      },
      "execution_count": 5,
      "outputs": [
        {
          "output_type": "stream",
          "name": "stdout",
          "text": [
            "Uppercase: HELLO\n"
          ]
        }
      ]
    },
    {
      "cell_type": "code",
      "source": [
        "# Write a code to replace the word \"apple\" with \"orange\" in the string \"I like\n",
        " #apple\"\n",
        "string4 = \"I like apple\"\n",
        "replaced_string = string4.replace(\"apple\", \"orange\")\n",
        "print(f\"Replaced string: {replaced_string}\")"
      ],
      "metadata": {
        "colab": {
          "base_uri": "https://localhost:8080/"
        },
        "id": "96RaQW8VMQ4g",
        "outputId": "29be5ee2-e47e-4a7b-f728-804ab1a6945e"
      },
      "execution_count": 7,
      "outputs": [
        {
          "output_type": "stream",
          "name": "stdout",
          "text": [
            "Replaced string: I like orange\n"
          ]
        }
      ]
    },
    {
      "cell_type": "code",
      "source": [
        "# Write a code to create a list with numbers 1 to 5 and print it\n",
        "numbers_list = [1, 2, 3, 4, 5]\n",
        "print(f\"List with numbers 1-5: {numbers_list}\")\n"
      ],
      "metadata": {
        "colab": {
          "base_uri": "https://localhost:8080/"
        },
        "id": "zdX3jsQLMhJo",
        "outputId": "4231ab9b-6bbb-4e9b-f725-31cf54789a6b"
      },
      "execution_count": 8,
      "outputs": [
        {
          "output_type": "stream",
          "name": "stdout",
          "text": [
            "List with numbers 1-5: [1, 2, 3, 4, 5]\n"
          ]
        }
      ]
    },
    {
      "cell_type": "code",
      "source": [
        "#Write a code to append the number 10 to the list [1, 2, 3, 4]\n",
        "my_list = [1, 2, 3, 4]\n",
        "my_list.append(10)\n",
        "print(f\"List after appending 10: {my_list}\")"
      ],
      "metadata": {
        "colab": {
          "base_uri": "https://localhost:8080/"
        },
        "id": "f0Ep5NEEMq68",
        "outputId": "87b5e1b7-be38-4abe-e682-714780ee729a"
      },
      "execution_count": 9,
      "outputs": [
        {
          "output_type": "stream",
          "name": "stdout",
          "text": [
            "List after appending 10: [1, 2, 3, 4, 10]\n"
          ]
        }
      ]
    },
    {
      "cell_type": "code",
      "source": [
        "# Write a code to remove the number 3 from the list [1, 2, 3, 4, 5]\n",
        "numbers_to_remove = [1, 2, 3, 4, 5]\n",
        "numbers_to_remove.remove(3)\n",
        "print(f\"List after removing 3: {numbers_to_remove}\")"
      ],
      "metadata": {
        "colab": {
          "base_uri": "https://localhost:8080/"
        },
        "id": "ODd7q0fPM2eB",
        "outputId": "d6cc587c-8a5b-4197-9ec8-0650c48383cc"
      },
      "execution_count": 10,
      "outputs": [
        {
          "output_type": "stream",
          "name": "stdout",
          "text": [
            "List after removing 3: [1, 2, 4, 5]\n"
          ]
        }
      ]
    },
    {
      "cell_type": "code",
      "source": [
        "# Write a code to access the second element in the list ['a', 'b', 'c', 'd']\n",
        "char_list = ['a', 'b', 'c', 'd']\n",
        "second_element = char_list[1]  # Index 1 is the second element\n",
        "print(f\"Second element: {second_element}\")"
      ],
      "metadata": {
        "colab": {
          "base_uri": "https://localhost:8080/"
        },
        "id": "GGBuXcTvNAZV",
        "outputId": "b81f0cc9-56c0-4c84-a7df-81d7995845f3"
      },
      "execution_count": 11,
      "outputs": [
        {
          "output_type": "stream",
          "name": "stdout",
          "text": [
            "Second element: b\n"
          ]
        }
      ]
    },
    {
      "cell_type": "code",
      "source": [
        "# Write a code to reverse the list [10, 20, 30, 40, 50]\n",
        "reverse_list = [10, 20, 30, 40, 50]\n",
        "reverse_list.reverse()\n",
        "print(f\"Reversed list: {reverse_list}\")"
      ],
      "metadata": {
        "colab": {
          "base_uri": "https://localhost:8080/"
        },
        "id": "-NseZ3WoNOMU",
        "outputId": "ba44d98b-3e82-440b-9d68-41a186e4a1c1"
      },
      "execution_count": 12,
      "outputs": [
        {
          "output_type": "stream",
          "name": "stdout",
          "text": [
            "Reversed list: [50, 40, 30, 20, 10]\n"
          ]
        }
      ]
    },
    {
      "cell_type": "code",
      "source": [
        "#11. Write a code to create a tuple with the elements 100, 200, 300 and print it\n",
        "tuple1 = (100, 200, 300)\n",
        "print(f\"Tuple with elements 100, 200, 300: {tuple1}\")\n"
      ],
      "metadata": {
        "colab": {
          "base_uri": "https://localhost:8080/"
        },
        "id": "f4PUpqkPQpXU",
        "outputId": "eaf16b06-9626-45bd-8dbb-b9dda82c891e"
      },
      "execution_count": 13,
      "outputs": [
        {
          "output_type": "stream",
          "name": "stdout",
          "text": [
            "Tuple with elements 100, 200, 300: (100, 200, 300)\n"
          ]
        }
      ]
    },
    {
      "cell_type": "code",
      "source": [
        "# 12. Write a code to access the second-to-last element of the tuple\n",
        " #('red', 'green', 'blue', 'yellow')\n",
        "colors = ('red', 'green', 'blue', 'yellow')\n",
        "second_to_last = colors[-2]\n",
        "print(f\"Second-to-last element: {second_to_last}\")"
      ],
      "metadata": {
        "colab": {
          "base_uri": "https://localhost:8080/"
        },
        "id": "viz9DJVOQ0Gh",
        "outputId": "c61ff848-cf75-4098-96b3-dbde3b2350fd"
      },
      "execution_count": 14,
      "outputs": [
        {
          "output_type": "stream",
          "name": "stdout",
          "text": [
            "Second-to-last element: blue\n"
          ]
        }
      ]
    },
    {
      "cell_type": "code",
      "source": [
        "#Write a code to find the minimum number in the tuple (10, 20, 5, 15)\n",
        "numbers = (10, 20, 5, 15)\n",
        "min_number = min(numbers)\n",
        "print(f\"Minimum number: {min_number}\")"
      ],
      "metadata": {
        "colab": {
          "base_uri": "https://localhost:8080/"
        },
        "id": "MCCF_jSFRKz3",
        "outputId": "3972ae8e-919e-4715-e2e8-b77ddb431e76"
      },
      "execution_count": 15,
      "outputs": [
        {
          "output_type": "stream",
          "name": "stdout",
          "text": [
            "Minimum number: 5\n"
          ]
        }
      ]
    },
    {
      "cell_type": "code",
      "source": [
        "# Write a code to find the minimum number in the tuple (10, 20, 5, 15)\n",
        "numbers = (10, 20, 5, 15)\n",
        "min_number = min(numbers)\n",
        "print(f\"Minimum number: {min_number}\")"
      ],
      "metadata": {
        "colab": {
          "base_uri": "https://localhost:8080/"
        },
        "id": "YoR4RTgXRSpv",
        "outputId": "c43689c7-bd34-4f85-ba61-20e53183b294"
      },
      "execution_count": 16,
      "outputs": [
        {
          "output_type": "stream",
          "name": "stdout",
          "text": [
            "Minimum number: 5\n"
          ]
        }
      ]
    },
    {
      "cell_type": "code",
      "source": [
        "# 14. Write a code to find the index of the element \"cat\" in the tuple\n",
        " #('dog', 'cat', 'rabbit')\n",
        "animals = ('dog', 'cat', 'rabbit')\n",
        "cat_index = animals.index(\"cat\")\n",
        "print(f\"Index of 'cat': {cat_index}\")"
      ],
      "metadata": {
        "colab": {
          "base_uri": "https://localhost:8080/"
        },
        "id": "IGTcw9MIReFb",
        "outputId": "bc5efaf8-fdbf-4d62-bbf6-e30a27fd4684"
      },
      "execution_count": 17,
      "outputs": [
        {
          "output_type": "stream",
          "name": "stdout",
          "text": [
            "Index of 'cat': 1\n"
          ]
        }
      ]
    },
    {
      "cell_type": "code",
      "source": [
        "# 16. Write a code to create a set with the elements 'a', 'b', 'c' and print it\n",
        "set1 = {'a', 'b', 'c'}\n",
        "print(f\"Set with elements 'a', 'b', 'c': {set1}\")\n"
      ],
      "metadata": {
        "colab": {
          "base_uri": "https://localhost:8080/"
        },
        "id": "Q3NNzplGRrVw",
        "outputId": "c3d8de42-33e9-4c1f-f482-8f5228dfa9cb"
      },
      "execution_count": 18,
      "outputs": [
        {
          "output_type": "stream",
          "name": "stdout",
          "text": [
            "Set with elements 'a', 'b', 'c': {'c', 'b', 'a'}\n"
          ]
        }
      ]
    },
    {
      "cell_type": "code",
      "source": [
        "#  Write a code to clear all elements from the set {1, 2, 3, 4, 5}\n",
        "set2 = {1, 2, 3, 4, 5}\n",
        "set2.clear()\n",
        "print(f\"Set after clearing: {set2}\")"
      ],
      "metadata": {
        "colab": {
          "base_uri": "https://localhost:8080/"
        },
        "id": "3mHDHC1WTvBV",
        "outputId": "e5c3c3a9-af57-4437-ec49-72b442a52b73"
      },
      "execution_count": 19,
      "outputs": [
        {
          "output_type": "stream",
          "name": "stdout",
          "text": [
            "Set after clearing: set()\n"
          ]
        }
      ]
    },
    {
      "cell_type": "code",
      "source": [
        "#  Write a code to remove the element 4 from the set {1, 2, 3, 4}\n",
        "set3 = {1, 2, 3, 4}\n",
        "set3.remove(4)\n",
        "print(f\"Set after removing 4: {set3}\")\n"
      ],
      "metadata": {
        "colab": {
          "base_uri": "https://localhost:8080/"
        },
        "id": "IWZUKKYVT-vm",
        "outputId": "0aaab63b-852f-40ce-e948-063570224bfb"
      },
      "execution_count": 20,
      "outputs": [
        {
          "output_type": "stream",
          "name": "stdout",
          "text": [
            "Set after removing 4: {1, 2, 3}\n"
          ]
        }
      ]
    },
    {
      "cell_type": "code",
      "source": [
        "# 19. Write a code to find the union of two sets {1, 2, 3} and {3, 4, 5}\n",
        "set_a = {1, 2, 3}\n",
        "set_b = {3, 4, 5}\n",
        "union_set = set_a.union(set_b)\n",
        "print(f\"Union of sets: {union_set}\")"
      ],
      "metadata": {
        "colab": {
          "base_uri": "https://localhost:8080/"
        },
        "id": "g6TZArB3UJq8",
        "outputId": "965d8698-7168-475b-a90b-4748f07cdc1e"
      },
      "execution_count": 21,
      "outputs": [
        {
          "output_type": "stream",
          "name": "stdout",
          "text": [
            "Union of sets: {1, 2, 3, 4, 5}\n"
          ]
        }
      ]
    },
    {
      "cell_type": "code",
      "source": [
        "# 20. Write a code to find the intersection of two sets {1, 2, 3} and {2, 3, 4}\n",
        "set_x = {1, 2, 3}\n",
        "set_y = {2, 3, 4}\n",
        "intersection_set = set_x.intersection(set_y)\n",
        "print(f\"Intersection of sets: {intersection_set}\")"
      ],
      "metadata": {
        "colab": {
          "base_uri": "https://localhost:8080/"
        },
        "id": "tQ-v4DgYUMb6",
        "outputId": "6f69fcaf-b429-4186-9c17-4c54dd3c9d75"
      },
      "execution_count": 22,
      "outputs": [
        {
          "output_type": "stream",
          "name": "stdout",
          "text": [
            "Intersection of sets: {2, 3}\n"
          ]
        }
      ]
    },
    {
      "cell_type": "code",
      "source": [
        "#  Create dictionary and print it\n",
        "person = {\"name\": \"John\", \"age\": 25, \"city\": \"New York\"}\n",
        "print(person)"
      ],
      "metadata": {
        "colab": {
          "base_uri": "https://localhost:8080/"
        },
        "id": "U1aNWu3gYSQX",
        "outputId": "2201ce55-5c70-42a2-e673-7a680acf4086"
      },
      "execution_count": 23,
      "outputs": [
        {
          "output_type": "stream",
          "name": "stdout",
          "text": [
            "{'name': 'John', 'age': 25, 'city': 'New York'}\n"
          ]
        }
      ]
    },
    {
      "cell_type": "code",
      "source": [
        "# 22. Add new key-value pair\n",
        "info = {'name': 'John', 'age': 25}\n",
        "info[\"country\"] = \"USA\"\n",
        "print(info)"
      ],
      "metadata": {
        "colab": {
          "base_uri": "https://localhost:8080/"
        },
        "id": "uEPf0X4KYWnk",
        "outputId": "58f7d383-b651-4835-c7d3-d054f79dba74"
      },
      "execution_count": 24,
      "outputs": [
        {
          "output_type": "stream",
          "name": "stdout",
          "text": [
            "{'name': 'John', 'age': 25, 'country': 'USA'}\n"
          ]
        }
      ]
    },
    {
      "cell_type": "code",
      "source": [
        "#  Access value by key\n",
        "data = {'name': 'Alice', 'age': 30}\n",
        "name_value = data[\"name\"]\n",
        "print(name_value)"
      ],
      "metadata": {
        "colab": {
          "base_uri": "https://localhost:8080/"
        },
        "id": "vc6EXmVEYfMf",
        "outputId": "29da6c19-5ecc-4010-ca84-46c113169fd2"
      },
      "execution_count": 25,
      "outputs": [
        {
          "output_type": "stream",
          "name": "stdout",
          "text": [
            "Alice\n"
          ]
        }
      ]
    },
    {
      "cell_type": "code",
      "source": [
        "#  Remove key from dictionary\n",
        "person_info = {'name': 'Bob', 'age': 22, 'city': 'New York'}\n",
        "del person_info[\"age\"]\n",
        "print(person_info)"
      ],
      "metadata": {
        "colab": {
          "base_uri": "https://localhost:8080/"
        },
        "id": "3wsBNbTOYv72",
        "outputId": "52c17993-85e9-49ae-ff44-a9e442b4bf01"
      },
      "execution_count": 26,
      "outputs": [
        {
          "output_type": "stream",
          "name": "stdout",
          "text": [
            "{'name': 'Bob', 'city': 'New York'}\n"
          ]
        }
      ]
    },
    {
      "cell_type": "code",
      "source": [
        "# 26. Create list, tuple, and dictionary\n",
        "my_list = [1, 2, 3]\n",
        "my_tuple = (4, 5, 6)\n",
        "my_dict = {\"a\": 1, \"b\": 2}\n",
        "\n",
        "print(my_list)\n",
        "print(my_tuple)\n",
        "print(my_dict)"
      ],
      "metadata": {
        "colab": {
          "base_uri": "https://localhost:8080/"
        },
        "id": "9XFyznWyY0wB",
        "outputId": "0dc69de1-e154-43ef-a4e0-02f78cdcecb9"
      },
      "execution_count": 27,
      "outputs": [
        {
          "output_type": "stream",
          "name": "stdout",
          "text": [
            "[1, 2, 3]\n",
            "(4, 5, 6)\n",
            "{'a': 1, 'b': 2}\n"
          ]
        }
      ]
    },
    {
      "cell_type": "code",
      "source": [
        "#Create list with strings and print third element\n",
        "fruits = [\"apple\", \"banana\", \"cherry\", \"orange\", \"mango\"]\n",
        "print(fruits[3])"
      ],
      "metadata": {
        "colab": {
          "base_uri": "https://localhost:8080/"
        },
        "id": "bUXdZMudZQPr",
        "outputId": "ec062315-f33d-4b93-a4d0-9344d0bf628e"
      },
      "execution_count": 28,
      "outputs": [
        {
          "output_type": "stream",
          "name": "stdout",
          "text": [
            "orange\n"
          ]
        }
      ]
    },
    {
      "cell_type": "code",
      "source": [
        "# 28. Combine two dictionaries\n",
        "dict1 = {\"a\": 1, \"b\": 2}\n",
        "dict2 = {\"c\": 3, \"d\": 4}\n",
        "combined = {**dict1, **dict2}\n",
        "print(combined)"
      ],
      "metadata": {
        "colab": {
          "base_uri": "https://localhost:8080/"
        },
        "id": "Y4S59BRqZUnV",
        "outputId": "1a253e0d-07b1-4f8e-f91a-735077ee3ffe"
      },
      "execution_count": 29,
      "outputs": [
        {
          "output_type": "stream",
          "name": "stdout",
          "text": [
            "{'a': 1, 'b': 2, 'c': 3, 'd': 4}\n"
          ]
        }
      ]
    },
    {
      "cell_type": "code",
      "source": [
        "# 29. Convert list of strings to set\n",
        "words = [\"hello\", \"world\", \"hello\", \"python\"]\n",
        "word_set = set(words)\n",
        "print(word_set)"
      ],
      "metadata": {
        "colab": {
          "base_uri": "https://localhost:8080/"
        },
        "id": "hC6h_gc7ZiGs",
        "outputId": "e0c99aa3-d773-4eaf-8170-7317ac4e2668"
      },
      "execution_count": 30,
      "outputs": [
        {
          "output_type": "stream",
          "name": "stdout",
          "text": [
            "{'python', 'hello', 'world'}\n"
          ]
        }
      ]
    },
    {
      "cell_type": "code",
      "source": [
        "# 30. Convert list of strings to set\n",
        "my_list = [\"apple\", \"banana\", \"apple\", \"orange\"]\n",
        "my_set = set(my_list)\n",
        "print(my_set)"
      ],
      "metadata": {
        "colab": {
          "base_uri": "https://localhost:8080/"
        },
        "id": "XHdpoiNkZ4Q3",
        "outputId": "8c8228e3-6c7e-42c9-9862-e3ae54c5fff0"
      },
      "execution_count": 31,
      "outputs": [
        {
          "output_type": "stream",
          "name": "stdout",
          "text": [
            "{'apple', 'banana', 'orange'}\n"
          ]
        }
      ]
    }
  ]
}